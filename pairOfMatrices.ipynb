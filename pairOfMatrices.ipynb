{
 "cells": [
  {
   "cell_type": "markdown",
   "id": "730f8e82",
   "metadata": {},
   "source": [
    "Our plan is to take two matrices (the matrices `R` and `S` below which we have choosen to be a rotation matrix and a scaling matrix, respectively) and apply all combinations of these two matrices and there inverse to a given vector (`v` below) up to a certain length (`length` below).  You can mess around with these parameters and make your own fun pictures. Or add a third matrix into the mix.  Can you explain any of the patterns?\n",
    "\n",
    "You might get prettier pictures if you look at all words in the pair of matrices and their inverses that have at most a certain number of each.  This is different than what is below.  Can you modify what is below achieve this?"
   ]
  },
  {
   "cell_type": "code",
   "execution_count": 123,
   "id": "4faa1776",
   "metadata": {},
   "outputs": [],
   "source": [
    "import matplotlib.pyplot as plt\n",
    "import numpy as np\n",
    "from math import sin, cos"
   ]
  },
  {
   "cell_type": "code",
   "execution_count": 124,
   "id": "1add6995",
   "metadata": {},
   "outputs": [],
   "source": [
    "pi = np.pi\n",
    "epsilon = np.random.rand()\n",
    "#theta = pi / 4\n",
    "# I liked this one:\n",
    "# theta = 0.21346564394063464\n",
    "theta = 2*pi*epsilon\n",
    "R = np.array([[cos(theta), (-1)*sin(theta)],\n",
    "               [sin(theta), cos(theta)]])\n",
    "\n",
    "S = np.array([[1.2,0],\n",
    "              [0,1.2]])"
   ]
  },
  {
   "cell_type": "code",
   "execution_count": 125,
   "id": "0e2950c2",
   "metadata": {},
   "outputs": [],
   "source": [
    "# Generates all words of length 'n' with letters drawn from 'letters'.\n",
    "def allWords(n, letters):\n",
    "    if n == 0: return []\n",
    "    elif n == 1: return letters\n",
    "    return [w + c for w in allWords(n-1, letters) for c in letters]\n",
    "#allWords(3, [\"a\",\"A\",\"b\",\"B\"])"
   ]
  },
  {
   "cell_type": "code",
   "execution_count": 126,
   "id": "c1cacb81",
   "metadata": {},
   "outputs": [
    {
     "data": {
      "text/plain": [
       "<matplotlib.collections.PathCollection at 0x7fa8caa2aee0>"
      ]
     },
     "execution_count": 126,
     "metadata": {},
     "output_type": "execute_result"
    },
    {
     "data": {
      "image/png": "[encoded data removed]",
      "text/plain": [
       "<Figure size 500x500 with 1 Axes>"
      ]
     },
     "metadata": {},
     "output_type": "display_data"
    }
   ],
   "source": [
    "# This takes a while.  It's hitting a vector by a matrix about 10*(4^10) times...\n",
    "\n",
    "v = np.array([1,0])\n",
    "points = [v]\n",
    "\n",
    "length = 10\n",
    "words = allWords(length,[\"R\",\"r\",\"S\",\"s\"])\n",
    "Rinv = np.linalg.inv(R)\n",
    "Sinv = np.linalg.inv(S)\n",
    "# np.matmul(R,Rinv)\n",
    "\n",
    "for w in words:\n",
    "    p = v\n",
    "    for c in w[::-1]:  # Reverse because of function composition order. \n",
    "        if   c == \"R\": p = R@p\n",
    "        elif c == \"r\": p = Rinv@p\n",
    "        elif c == \"S\": p = S@p\n",
    "        elif c == \"s\": p = Sinv@p\n",
    "    points.append(p)\n",
    "    \n",
    "xs, ys = [p[0] for p in points], [p[1] for p in points] \n",
    "fig, ax = plt.subplots(figsize=(5,5))\n",
    "ax.scatter(xs, ys, edgecolor='k')"
   ]
  }
 ],
 "metadata": {
  "kernelspec": {
   "display_name": "Python 3 (ipykernel)",
   "language": "python",
   "name": "python3"
  },
  "language_info": {
   "codemirror_mode": {
    "name": "ipython",
    "version": 3
   },
   "file_extension": ".py",
   "mimetype": "text/x-python",
   "name": "python",
   "nbconvert_exporter": "python",
   "pygments_lexer": "ipython3",
   "version": "3.9.13"
  }
 },
 "nbformat": 4,
 "nbformat_minor": 5
}
