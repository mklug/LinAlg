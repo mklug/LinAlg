{
 "cells": [
  {
   "cell_type": "markdown",
   "id": "6f36e842",
   "metadata": {},
   "source": [
    "Here we implement our triangle detection algorithm from class and compare it to a built-in method that is in the networkX library."
   ]
  },
  {
   "cell_type": "code",
   "execution_count": 62,
   "id": "b4c25e6e",
   "metadata": {},
   "outputs": [],
   "source": [
    "import numpy as np\n",
    "import networkx as nx\n",
    "import matplotlib.pyplot as plt"
   ]
  },
  {
   "cell_type": "code",
   "execution_count": 63,
   "id": "c3342e84",
   "metadata": {},
   "outputs": [],
   "source": [
    "# Our triangleless graph.\n",
    "G = nx.Graph()\n",
    "G.add_nodes_from([1,2,3,4])\n",
    "G.add_edges_from([[1,2],[2,3],[3,4],[4,1]])"
   ]
  },
  {
   "cell_type": "code",
   "execution_count": 64,
   "id": "9e0b569c",
   "metadata": {},
   "outputs": [],
   "source": [
    "# Our triangleless graph.\n",
    "H = nx.Graph()\n",
    "H.add_nodes_from([1,2,3,4])\n",
    "H.add_edges_from([[1,2],[2,3],[3,1],[4,1]])"
   ]
  },
  {
   "cell_type": "code",
   "execution_count": 65,
   "id": "bc4a983b",
   "metadata": {},
   "outputs": [
    {
     "name": "stdout",
     "output_type": "stream",
     "text": [
      "{1: 0, 2: 0, 3: 0, 4: 0}\n",
      "{1: 1, 2: 1, 3: 1, 4: 0}\n"
     ]
    }
   ],
   "source": [
    "# NetworkX has a built-in function for finding the triangles.\n",
    "# Returns a dictionary from the vertices to the number of triangles with that vertex.  \n",
    "print(nx.triangles(G))\n",
    "print(nx.triangles(H))"
   ]
  },
  {
   "cell_type": "code",
   "execution_count": 66,
   "id": "7685fce6",
   "metadata": {},
   "outputs": [],
   "source": [
    "# We can wrap that up to get a practically built-in 'hasTriangles' function.\n",
    "def hasTrianglesNX(G):\n",
    "    return any(v > 0 for v in nx.triangles(G).values())\n",
    "\n",
    "assert not hasTrianglesNX(G)\n",
    "assert hasTrianglesNX(H)"
   ]
  },
  {
   "cell_type": "code",
   "execution_count": 67,
   "id": "a837a8ba",
   "metadata": {},
   "outputs": [
    {
     "name": "stderr",
     "output_type": "stream",
     "text": [
      "/var/folders/by/wvnsnkkd01170lymx2nfjq900000gn/T/ipykernel_45424/2225154015.py:6: FutureWarning: adjacency_matrix will return a scipy.sparse array instead of a matrix in Networkx 3.0.\n",
      "  A = nx.adjacency_matrix(G).toarray()\n"
     ]
    }
   ],
   "source": [
    "# Let's make our own using the algorithm from class that was sped up with fast matrix mult.\n",
    "# We will just call on numpy for matrix multiplication, I bet they got it pretty darn fast.\n",
    "\n",
    "def hasTriangles(G):\n",
    "    n = G.number_of_nodes()\n",
    "    A = nx.adjacency_matrix(G).toarray()\n",
    "    B = A@A # There is (in theory) our time dominating line.\n",
    "    for i in range(n):\n",
    "        for j in range(i+1,n):\n",
    "            if A[i][j] != 0 and B[i][j] != 0: return True\n",
    "    return False\n",
    "\n",
    "assert not hasTriangles(G)\n",
    "assert hasTriangles(H)"
   ]
  },
  {
   "cell_type": "markdown",
   "id": "f9872a0f",
   "metadata": {},
   "source": [
    "For fun, let's see how these to functions compare to one another time-wise. That `toarray` call in our function is messing with all sorts of sparsity techniques that would generally be speeding things up in the background, so I imagine our function will be very slow.  We will generate a bunch of random graphs by drawing from [Erdos-Renyi distributions)](https://en.wikipedia.org/wiki/Erd%C5%91s%E2%80%93R%C3%A9nyi_model) (with random $p$ parameters).  "
   ]
  },
  {
   "cell_type": "code",
   "execution_count": 86,
   "id": "51282426",
   "metadata": {},
   "outputs": [
    {
     "name": "stdout",
     "output_type": "stream",
     "text": [
      "Time with built-in:  7.901388159999897\n"
     ]
    },
    {
     "name": "stderr",
     "output_type": "stream",
     "text": [
      "/var/folders/by/wvnsnkkd01170lymx2nfjq900000gn/T/ipykernel_45424/2225154015.py:6: FutureWarning: adjacency_matrix will return a scipy.sparse array instead of a matrix in Networkx 3.0.\n",
      "  A = nx.adjacency_matrix(G).toarray()\n"
     ]
    },
    {
     "name": "stdout",
     "output_type": "stream",
     "text": [
      "Time with our function:  8.55508600300027\n"
     ]
    }
   ],
   "source": [
    "import timeit\n",
    "\n",
    "trials = 30\n",
    "vertices = 200\n",
    "def test(f, trials, vertices):\n",
    "    for _ in range(trials):\n",
    "        p = np.random.rand()\n",
    "        f(nx.erdos_renyi_graph(vertices,p))\n",
    "        \n",
    "start = timeit.default_timer()\n",
    "test(hasTrianglesNX, trials, vertices)\n",
    "stop = timeit.default_timer()\n",
    "print('Time with built-in: ', stop - start)\n",
    "\n",
    "start = timeit.default_timer()\n",
    "test(hasTriangles, trials, vertices)\n",
    "stop = timeit.default_timer()\n",
    "print('Time with our function: ', stop - start)"
   ]
  }
 ],
 "metadata": {
  "kernelspec": {
   "display_name": "Python 3 (ipykernel)",
   "language": "python",
   "name": "python3"
  },
  "language_info": {
   "codemirror_mode": {
    "name": "ipython",
    "version": 3
   },
   "file_extension": ".py",
   "mimetype": "text/x-python",
   "name": "python",
   "nbconvert_exporter": "python",
   "pygments_lexer": "ipython3",
   "version": "3.9.13"
  }
 },
 "nbformat": 4,
 "nbformat_minor": 5
}
